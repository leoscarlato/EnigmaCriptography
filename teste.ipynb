{
 "cells": [
  {
   "cell_type": "code",
   "execution_count": 1,
   "metadata": {},
   "outputs": [],
   "source": [
    "import numpy as np\n",
    "import copy"
   ]
  },
  {
   "cell_type": "code",
   "execution_count": 2,
   "metadata": {},
   "outputs": [
    {
     "data": {
      "text/plain": [
       "array([[0, 1, 0, 0, 0, 0],\n",
       "       [1, 0, 0, 0, 0, 0],\n",
       "       [0, 0, 0, 0, 0, 0],\n",
       "       [0, 0, 0, 0, 0, 0],\n",
       "       [0, 0, 0, 0, 0, 0],\n",
       "       [0, 0, 0, 0, 0, 0],\n",
       "       [0, 0, 0, 0, 0, 0],\n",
       "       [0, 0, 0, 0, 0, 0],\n",
       "       [0, 0, 0, 0, 0, 0],\n",
       "       [0, 0, 0, 0, 0, 0],\n",
       "       [0, 0, 0, 0, 0, 0],\n",
       "       [0, 0, 0, 0, 0, 0],\n",
       "       [0, 0, 0, 0, 0, 0],\n",
       "       [0, 0, 0, 0, 0, 0],\n",
       "       [0, 0, 0, 0, 1, 0],\n",
       "       [0, 0, 0, 0, 0, 0],\n",
       "       [0, 0, 0, 0, 0, 0],\n",
       "       [0, 0, 1, 1, 0, 0],\n",
       "       [0, 0, 0, 0, 0, 1],\n",
       "       [0, 0, 0, 0, 0, 0],\n",
       "       [0, 0, 0, 0, 0, 0],\n",
       "       [0, 0, 0, 0, 0, 0],\n",
       "       [0, 0, 0, 0, 0, 0],\n",
       "       [0, 0, 0, 0, 0, 0],\n",
       "       [0, 0, 0, 0, 0, 0],\n",
       "       [0, 0, 0, 0, 0, 0],\n",
       "       [0, 0, 0, 0, 0, 0]])"
      ]
     },
     "execution_count": 2,
     "metadata": {},
     "output_type": "execute_result"
    }
   ],
   "source": [
    "from funcoes import para_one_hot, para_string, cifrar, de_cifrar, enigma, de_enigma\n",
    "hot_code = para_one_hot(\"barros\")\n",
    "hot_code"
   ]
  },
  {
   "cell_type": "code",
   "execution_count": 3,
   "metadata": {},
   "outputs": [
    {
     "data": {
      "text/plain": [
       "'barros'"
      ]
     },
     "execution_count": 3,
     "metadata": {},
     "output_type": "execute_result"
    }
   ],
   "source": [
    "para_string(hot_code)"
   ]
  },
  {
   "attachments": {},
   "cell_type": "markdown",
   "metadata": {},
   "source": [
    "# Teste **Cifrar** & **De Cifrar**"
   ]
  },
  {
   "cell_type": "code",
   "execution_count": 4,
   "metadata": {},
   "outputs": [],
   "source": [
    "linhas = np.array([i for i in range(27)])\n",
    "np.random.shuffle(linhas)\n",
    "matriz_identidade = np.eye(27)\n",
    "\n",
    "matriz_permutacao = matriz_identidade [linhas,:]\n"
   ]
  },
  {
   "cell_type": "code",
   "execution_count": 5,
   "metadata": {},
   "outputs": [
    {
     "data": {
      "text/plain": [
       "'d'"
      ]
     },
     "execution_count": 5,
     "metadata": {},
     "output_type": "execute_result"
    }
   ],
   "source": [
    "cifrar(\"b\", matriz_permutacao)"
   ]
  },
  {
   "cell_type": "code",
   "execution_count": 6,
   "metadata": {},
   "outputs": [
    {
     "data": {
      "text/plain": [
       "'b'"
      ]
     },
     "execution_count": 6,
     "metadata": {},
     "output_type": "execute_result"
    }
   ],
   "source": [
    "de_cifrar(cifrar(\"b\", matriz_permutacao), matriz_permutacao)"
   ]
  },
  {
   "attachments": {},
   "cell_type": "markdown",
   "metadata": {},
   "source": [
    "# Teste **Enigma** & **De Enigma**"
   ]
  },
  {
   "cell_type": "code",
   "execution_count": 7,
   "metadata": {},
   "outputs": [
    {
     "data": {
      "text/plain": [
       "'d'"
      ]
     },
     "execution_count": 7,
     "metadata": {},
     "output_type": "execute_result"
    }
   ],
   "source": [
    "cifrar(\"b\", matriz_permutacao)"
   ]
  },
  {
   "cell_type": "code",
   "execution_count": 8,
   "metadata": {},
   "outputs": [],
   "source": [
    "linhas = np.array([i for i in range(27)])\n",
    "np.random.shuffle(linhas)\n",
    "matriz_identidade = np.eye(27)\n",
    "mp = matriz_identidade [linhas,:]\n",
    "np.random.shuffle(linhas)\n",
    "ma = matriz_identidade[linhas,:]"
   ]
  },
  {
   "cell_type": "code",
   "execution_count": 21,
   "metadata": {},
   "outputs": [],
   "source": [
    "def enigma(mensagem, matriz_permutacao, matriz_auxiliar):\n",
    "    mensagem_cripto = \"\"\n",
    "    contador = 0\n",
    "    for caracter in mensagem:\n",
    "        letra_cripto = cifrar(caracter, matriz_permutacao)\n",
    "        for i in range(contador):\n",
    "            letra_cripto = cifrar(letra_cripto, matriz_auxiliar)\n",
    "        mensagem_cripto += letra_cripto\n",
    "        contador += 1\n",
    "    return mensagem_cripto\n",
    "        \n"
   ]
  },
  {
   "cell_type": "code",
   "execution_count": 20,
   "metadata": {},
   "outputs": [],
   "source": [
    "def de_enigma(mensagem_encriptada, matriz_permutacao, matriz_auxiliar):\n",
    "    mensagem_original = \"\"\n",
    "    contador = 0\n",
    "    for caracter in mensagem_encriptada:\n",
    "        for i in range(contador):\n",
    "            letra_original = de_cifrar(letra_original, matriz_auxiliar)\n",
    "        letra_original = de_cifrar(caracter, matriz_permutacao)\n",
    "        mensagem_original += letra_original\n",
    "        contador += 1\n",
    "    return mensagem_original"
   ]
  },
  {
   "cell_type": "code",
   "execution_count": 28,
   "metadata": {},
   "outputs": [
    {
     "data": {
      "text/plain": [
       "'sdfghjklsdfghjk'"
      ]
     },
     "execution_count": 28,
     "metadata": {},
     "output_type": "execute_result"
    }
   ],
   "source": [
    "de_enigma(enigma(\"sdfghjklsdfghjk\", mp, ma), mp, ma)"
   ]
  },
  {
   "cell_type": "code",
   "execution_count": 12,
   "metadata": {},
   "outputs": [],
   "source": [
    "import numpy as np"
   ]
  },
  {
   "cell_type": "code",
   "execution_count": 13,
   "metadata": {},
   "outputs": [],
   "source": [
    "linhas = np.array([i for i in range(27)])\n",
    "np.random.shuffle(linhas)\n",
    "matriz_identidade = np.eye(27)\n",
    "matriz_permutacao = matriz_identidade [linhas,:]\n",
    "np.random.shuffle(linhas)\n",
    "matriz_auxiliar = matriz_identidade[linhas,:]"
   ]
  },
  {
   "cell_type": "code",
   "execution_count": 14,
   "metadata": {},
   "outputs": [],
   "source": [
    "mp = np.identity(27)\n",
    "# mp0 = copy.deepcopy(mp[0])\n",
    "# mp[0] = mp[1] \n",
    "\n",
    "# mp[1] = mp0\n",
    "ma = np.identity(27)\n",
    "ma = np.identity(27)\n",
    "ma0 = copy.deepcopy(ma[0])\n",
    "ma[0] = ma[1] \n",
    "\n",
    "ma[1] = ma0"
   ]
  },
  {
   "cell_type": "code",
   "execution_count": 15,
   "metadata": {},
   "outputs": [
    {
     "data": {
      "text/plain": [
       "'bbrros'"
      ]
     },
     "execution_count": 15,
     "metadata": {},
     "output_type": "execute_result"
    }
   ],
   "source": [
    "enigma(\"barros\", mp, ma)"
   ]
  },
  {
   "cell_type": "code",
   "execution_count": 16,
   "metadata": {},
   "outputs": [
    {
     "data": {
      "text/plain": [
       "'barros'"
      ]
     },
     "execution_count": 16,
     "metadata": {},
     "output_type": "execute_result"
    }
   ],
   "source": [
    "de_enigma('aarros', mp, ma)"
   ]
  }
 ],
 "metadata": {
  "kernelspec": {
   "display_name": "env",
   "language": "python",
   "name": "python3"
  },
  "language_info": {
   "codemirror_mode": {
    "name": "ipython",
    "version": 3
   },
   "file_extension": ".py",
   "mimetype": "text/x-python",
   "name": "python",
   "nbconvert_exporter": "python",
   "pygments_lexer": "ipython3",
   "version": "3.9.10"
  },
  "orig_nbformat": 4
 },
 "nbformat": 4,
 "nbformat_minor": 2
}
