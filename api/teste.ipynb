{
 "cells": [
  {
   "cell_type": "code",
   "execution_count": 556,
   "metadata": {},
   "outputs": [],
   "source": [
    "import numpy as np\n",
    "import copy\n",
    "from funcoes import para_one_hot, para_string, cifrar, de_cifrar, enigma, de_enigma"
   ]
  },
  {
   "attachments": {},
   "cell_type": "markdown",
   "metadata": {},
   "source": [
    "# Teste **para_one_hot** **para_string**"
   ]
  },
  {
   "cell_type": "code",
   "execution_count": 557,
   "metadata": {},
   "outputs": [
    {
     "data": {
      "text/plain": [
       "'teste'"
      ]
     },
     "execution_count": 557,
     "metadata": {},
     "output_type": "execute_result"
    }
   ],
   "source": [
    "para_string((para_one_hot(\"teste\")))"
   ]
  },
  {
   "attachments": {},
   "cell_type": "markdown",
   "metadata": {},
   "source": [
    "# Teste **Cifrar** & **De Cifrar**"
   ]
  },
  {
   "attachments": {},
   "cell_type": "markdown",
   "metadata": {},
   "source": [
    "Criando Matriz Permutação"
   ]
  },
  {
   "cell_type": "code",
   "execution_count": 558,
   "metadata": {},
   "outputs": [],
   "source": [
    "linhas = np.array([i for i in range(27)])\n",
    "identidade =np.identity(27)\n",
    "np.random.shuffle(linhas)\n",
    "MP = identidade[linhas,:]"
   ]
  },
  {
   "cell_type": "code",
   "execution_count": 559,
   "metadata": {},
   "outputs": [
    {
     "data": {
      "text/plain": [
       "'okeok'"
      ]
     },
     "execution_count": 559,
     "metadata": {},
     "output_type": "execute_result"
    }
   ],
   "source": [
    "cifrar(\"teste\", MP)"
   ]
  },
  {
   "cell_type": "code",
   "execution_count": 560,
   "metadata": {},
   "outputs": [
    {
     "data": {
      "text/plain": [
       "'teste'"
      ]
     },
     "execution_count": 560,
     "metadata": {},
     "output_type": "execute_result"
    }
   ],
   "source": [
    "de_cifrar(cifrar(\"teste\", MP),MP)"
   ]
  },
  {
   "attachments": {},
   "cell_type": "markdown",
   "metadata": {},
   "source": [
    "# Teste **Enigma** & **De Enigma**"
   ]
  },
  {
   "attachments": {},
   "cell_type": "markdown",
   "metadata": {},
   "source": [
    "criando Matriz Auxiliar"
   ]
  },
  {
   "cell_type": "code",
   "execution_count": 561,
   "metadata": {},
   "outputs": [],
   "source": [
    "linhas = np.array([i for i in range(27)])\n",
    "identidade =np.identity(27)\n",
    "np.random.shuffle(linhas)\n",
    "MA = identidade[linhas,:]"
   ]
  },
  {
   "cell_type": "code",
   "execution_count": 562,
   "metadata": {},
   "outputs": [],
   "source": [
    "def enigma(mensagem, matriz_permutacao, matriz_auxiliar):\n",
    "    mensagem_cripto = \"\"\n",
    "    contador = 0\n",
    "    for caracter in mensagem:\n",
    "        letra_cripto = cifrar(caracter, matriz_permutacao)\n",
    "        for i in range(contador):\n",
    "            letra_cripto = cifrar(letra_cripto, matriz_auxiliar)\n",
    "        mensagem_cripto += letra_cripto\n",
    "        contador += 1\n",
    "    return mensagem_cripto"
   ]
  },
  {
   "cell_type": "code",
   "execution_count": 563,
   "metadata": {},
   "outputs": [],
   "source": [
    "def de_enigma(mensagem_encriptada, matriz_permutacao, matriz_auxiliar):\n",
    "    mensagem_original = \"\"\n",
    "    contador = 0\n",
    "    for caracter in mensagem_encriptada:\n",
    "        for i in range(contador):\n",
    "            caracter = de_cifrar(caracter,matriz_auxiliar)\n",
    "        letra_ = de_cifrar(caracter,matriz_permutacao)\n",
    "        mensagem_original += letra_\n",
    "        contador += 1\n",
    "    return mensagem_original\n"
   ]
  },
  {
   "cell_type": "code",
   "execution_count": 565,
   "metadata": {},
   "outputs": [
    {
     "data": {
      "text/plain": [
       "'rafael lisboa'"
      ]
     },
     "execution_count": 565,
     "metadata": {},
     "output_type": "execute_result"
    }
   ],
   "source": [
    "de_enigma(enigma(\"rafael lisboa\", MP, MA), MP, MA)"
   ]
  },
  {
   "cell_type": "code",
   "execution_count": null,
   "metadata": {},
   "outputs": [],
   "source": []
  }
 ],
 "metadata": {
  "kernelspec": {
   "display_name": "env",
   "language": "python",
   "name": "python3"
  },
  "language_info": {
   "codemirror_mode": {
    "name": "ipython",
    "version": 3
   },
   "file_extension": ".py",
   "mimetype": "text/x-python",
   "name": "python",
   "nbconvert_exporter": "python",
   "pygments_lexer": "ipython3",
   "version": "3.9.10"
  },
  "orig_nbformat": 4
 },
 "nbformat": 4,
 "nbformat_minor": 2
}
